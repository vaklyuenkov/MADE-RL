{
 "cells": [
  {
   "cell_type": "markdown",
   "metadata": {},
   "source": [
    "# Advanced DL and RL: Домашнее задание 1\n",
    "Студент: Клюенков Владимир"
   ]
  },
  {
   "cell_type": "markdown",
   "metadata": {},
   "source": [
    "Первое ДЗ связано с обучением с подкреплением, и оно придумано для ситуации, когда нейронные сети ещё не нужны, и пространство состояний в целом достаточно маленькое, чтобы можно было обучить хорошую стратегию методами TD-обучения или другими методами обучения с подкреплением. Задание получилось, надеюсь, интересное, но в том числе и достаточно техническое, так что для решения придётся немножко попрограммировать. Поэтому в качестве решения ожидается ссылка на jupyter-ноутбук на вашем github (или публичный, или с доступом для snikolenko); ссылку обязательно нужно прислать в виде сданного домашнего задания на портале Академии. Любые комментарии, новые идеи и рассуждения на тему, как всегда, категорически приветствуются.\n"
   ]
  },
  {
   "cell_type": "markdown",
   "metadata": {},
   "source": [
    "## Часть первая, с блекджеком и стратегиями"
   ]
  },
  {
   "cell_type": "markdown",
   "metadata": {},
   "source": [
    "Мы будем обучаться играть в очень простую, но всё-таки знаменитую и популярную игру: блекджек. Правила блекджека достаточно просты; давайте начнём с самой базовой версии, которая реализована в OpenAI Gym:\n",
    "        \n",
    "* численные значения карт равны от 2 до 10 для карт от двойки до десятки, 10 для валетов, дам и королей;\n",
    "* туз считается за 11 очков, если общая сумма карт на руке при этом не превосходит 21 (по-английски в этом случае говорят, что на руке есть usable ace), и за 1 очко, если превосходит;\n",
    "* игроку раздаются две карты, дилеру — одна в открытую и одна в закрытую;\n",
    "* игрок может совершать одно из двух действий:\n",
    "* hit  — взять ещё одну карту;\n",
    "* stand — не брать больше карт;\n",
    "* если сумма очков у игрока на руках больше 21, он проигрывает (bust);\n",
    "* если игрок выбирает stand с суммой не больше 21, дилер добирает карты, пока сумма карт в его руке меньше 17;\n",
    "после этого игрок выигрывает, если дилер либо превышает 21, либо получает сумму очков меньше, чем сумма очков у игрока; при равенстве очков объявляется ничья (ставка возвращается);\n",
    "* в исходных правилах есть ещё дополнительный бонус за natural blackjack: если игрок набирает 21 очко с раздачи, двумя картами, он выигрывает не +1, а +1.5 (полторы ставки).\n",
    "\n",
    "\n",
    "Именно этот простейший вариант блекджека реализован в OpenAI Gym:\n",
    "https://github.com/openai/gym/blob/38a1f630dc9815a567aaf299ae5844c8f8b9a6fa/gym/envs/toy_text/blackjack.py\n"
   ]
  },
  {
   "cell_type": "markdown",
   "metadata": {},
   "source": [
    "1. Рассмотрим очень простую стратегию: говорить stand, если у нас на руках комбинация в 19, 20 или 21 очко, во всех остальных случаях говорить hit. Используйте методы Монте-Карло, чтобы оценить выигрыш от этой стратегии."
   ]
  },
  {
   "cell_type": "code",
   "execution_count": 73,
   "metadata": {},
   "outputs": [],
   "source": [
    "import gym\n",
    "env = gym.make('Blackjack-v0', natural=True)\n",
    "import matplotlib.pyplot as plt\n",
    "import numpy as np\n",
    "from tqdm import tqdm"
   ]
  },
  {
   "cell_type": "code",
   "execution_count": 67,
   "metadata": {},
   "outputs": [
    {
     "name": "stdout",
     "output_type": "stream",
     "text": [
      "Выигрыш от наивной стратегии: -0.18129199999999868\n",
      "CPU times: user 54.4 s, sys: 26.6 ms, total: 54.5 s\n",
      "Wall time: 54.6 s\n"
     ]
    }
   ],
   "source": [
    "%%time\n",
    "num_episodes = 1000000\n",
    "average_reward = 0\n",
    "\n",
    "def simplest_policy(state):\n",
    "    if state[0] >= 19: \n",
    "        return 0\n",
    "    else:\n",
    "        return 1\n",
    "    \n",
    "    \n",
    "for i in range(num_episodes):\n",
    "    state = env.reset()\n",
    "    is_done = False\n",
    "    while not is_done:\n",
    "        action = simplest_policy(state)\n",
    "        state, reward, is_done, _ = env.step(action)\n",
    "    average_reward += (reward - average_reward) / (i + 1)\n",
    "    \n",
    "print(f\"Выигрыш от наивной стратегии: {average_reward}\")"
   ]
  },
  {
   "cell_type": "markdown",
   "metadata": {},
   "source": [
    "2. Реализуйте метод обучения с подкреплением без модели (можно Q-обучение, но рекомендую попробовать и другие, например Monte Carlo control) для обучения стратегии в блекджеке, используя окружение Blackjack-v0 из OpenAI Gym."
   ]
  },
  {
   "cell_type": "markdown",
   "metadata": {},
   "source": [
    "####  Q-обучение"
   ]
  },
  {
   "cell_type": "code",
   "execution_count": 75,
   "metadata": {},
   "outputs": [],
   "source": [
    "class Qlearning:\n",
    "    def __init__(self, alpha=0.00001, gamma=1, eps=0.1):\n",
    "        self.Q = {}\n",
    "        self.alpha = alpha\n",
    "        self.gamma = gamma\n",
    "        self.eps = eps\n",
    "        \n",
    "        env == 'Blackjack-v0'\n",
    "        self.env = gym.make('Blackjack-v0', natural=True)\n",
    "        self.na = self.env.action_space.n\n",
    "        self.action_space = list(range(self.na))\n",
    "    \n",
    "    def get_rewards(self, state):\n",
    "        if state not in self.Q.keys():\n",
    "            self.Q[state] = np.zeros(self.na)\n",
    "        return self.Q[state]\n",
    "    \n",
    "    def get_next_action(self, state):\n",
    "        rewards = self.get_rewards(state)\n",
    "        return np.argmax(rewards)\n",
    "    \n",
    "    def epsilon_greedy_policy(self, state):\n",
    "        if np.random.rand() < self.eps:\n",
    "            action = np.random.choice(self.action_space)\n",
    "        else:\n",
    "            action = self.get_next_action(state)\n",
    "        return action\n",
    "            \n",
    "    def run_episode(self):\n",
    "        state = self.env.reset()\n",
    "        done = False\n",
    "        steps = []\n",
    "        while not done:\n",
    "            action = self.epsilon_greedy_policy(state)\n",
    "            steps.append((state, action))\n",
    "            state, reward, done, _ = self.env.step(action)\n",
    "        return steps, reward\n",
    "    \n",
    "    def train(self, num_episodes=100000):\n",
    "        for n in range(num_episodes):\n",
    "            steps, reward = self.run_episode()\n",
    "            for state, action in steps[::-1]:\n",
    "                reward = self.get_rewards(state)[action] + self.alpha * \\\n",
    "                (reward + self.gamma * np.max(self.Q[state]) - self.get_rewards(state)[action])\n",
    "                self.Q[state][action] = reward\n",
    "    \n",
    "    def inference(self, num_episodes=100000):\n",
    "        average_reward = 0\n",
    "        for i in range(num_episodes):\n",
    "            state = self.env.reset()\n",
    "            is_done = False\n",
    "            while not is_done:\n",
    "                action = self.get_next_action(state)\n",
    "                state, reward, is_done, _ = self.env.step(action)\n",
    "            average_reward += (reward - average_reward) / (i + 1)\n",
    "        #print(f\"Средний выигрыш после {num_episodes} эпизодов Q-learning: {average_reward}\")\n",
    "        return average_reward"
   ]
  },
  {
   "cell_type": "code",
   "execution_count": 63,
   "metadata": {},
   "outputs": [
    {
     "name": "stdout",
     "output_type": "stream",
     "text": [
      "Средний выигрыш после 100000 эпизодов Q-learning: -0.053804999999999825\n",
      "CPU times: user 13.2 s, sys: 120 ms, total: 13.3 s\n",
      "Wall time: 13.2 s\n"
     ]
    }
   ],
   "source": [
    "%%time\n",
    "QL = Qlearning()\n",
    "QL.train(num_episodes=100000)\n",
    "average_reward, rewards = QL.inference(num_episodes=100000)"
   ]
  },
  {
   "cell_type": "markdown",
   "metadata": {},
   "source": [
    "#### Monte Carlo control"
   ]
  },
  {
   "cell_type": "code",
   "execution_count": 125,
   "metadata": {},
   "outputs": [],
   "source": [
    "from collections import defaultdict\n",
    "import random\n",
    "def get_epsilon(N_state_count, N_zero=100):\n",
    "    return N_zero / (N_zero + N_state_count)\n",
    "\n",
    "def get_action(Q, state, state_count, action_size):\n",
    "    random_action = random.randint(0, action_size - 1)\n",
    "    best_action = np.argmax(Q[state])\n",
    "    epsilon = get_epsilon(state_count)\n",
    "    return np.random.choice([best_action, random_action], p=[1. - epsilon, epsilon])\n",
    "\n",
    "def MC_inference(Q, num_episodes=100000):\n",
    "    average_reward = 0\n",
    "    for i in range(num_episodes):\n",
    "        state = env.reset()\n",
    "        is_done = False\n",
    "        while not is_done:\n",
    "            action = np.argmax(Q[state])\n",
    "            state, reward, is_done, _ = env.step(action)\n",
    "        average_reward += (reward - average_reward) / (i + 1)\n",
    "    #print(f\"Средний выигрыш после {num_episodes} эпизодов Monte Carlo control: {average_reward}\")\n",
    "    return average_reward\n",
    "\n",
    "\n",
    "def evaluate_policy(Q, episodes=10000):\n",
    "    wins = 0\n",
    "    for _ in range(episodes):\n",
    "        state = env.reset()\n",
    "        done = False\n",
    "        while not done:\n",
    "            action = np.argmax(Q[state])\n",
    "            state, reward, done, _ = env.step(action=action)\n",
    "        if reward > 0:\n",
    "            wins += 1\n",
    "    return wins / episodes\n",
    "\n",
    "def monte_carlo(gamma=1., episodes=5000, evaluate=False):\n",
    "    Q = defaultdict(lambda: np.zeros(env.action_space.n))\n",
    "    state_count = defaultdict(float)\n",
    "    state_action_count = defaultdict(float)\n",
    "    \n",
    "    evaluations = []\n",
    "    for i in range(episodes):\n",
    "        if evaluate and i % 1000 == 0:\n",
    "            evaluations.append(evaluate_policy(Q))\n",
    "        episode = []\n",
    "        state = env.reset()\n",
    "        done = False\n",
    "        while not done:\n",
    "            state_count[state] += 1\n",
    "            action = get_action(Q, state, state_count[state], env.action_space.n)\n",
    "            new_state, reward, done, _ = env.step(action=action)\n",
    "            episode.append((state, action, reward))\n",
    "            state = new_state\n",
    "        G = 0\n",
    "        for s, a, r in reversed(episode):\n",
    "            new_s_a_count = state_action_count[(s, a)] + 1\n",
    "            G = r + gamma * G\n",
    "            state_action_count[(s, a)] = new_s_a_count\n",
    "            Q[s][a] = Q[s][a] + (G - Q[s][a]) / new_s_a_count\n",
    "    return Q, evaluations"
   ]
  },
  {
   "cell_type": "code",
   "execution_count": 123,
   "metadata": {},
   "outputs": [
    {
     "name": "stdout",
     "output_type": "stream",
     "text": [
      "Средний выигрыш после 100000 эпизодов Monte Carlo control: -0.040160000000000605\n"
     ]
    },
    {
     "data": {
      "text/plain": [
       "-0.040160000000000605"
      ]
     },
     "execution_count": 123,
     "metadata": {},
     "output_type": "execute_result"
    }
   ],
   "source": [
    "Q_mc, evaluations = monte_carlo(episodes=100000)\n",
    "MC_inference(Q_mc, num_episodes=100000)"
   ]
  },
  {
   "cell_type": "markdown",
   "metadata": {},
   "source": [
    "3. Сколько выигрывает казино у вашей стратегии? Нарисуйте графики среднего дохода вашего метода (усреднённого по крайней мере по 100000 раздач, а лучше больше) по ходу обучения. Попробуйте подобрать оптимальные гиперпараметры."
   ]
  },
  {
   "cell_type": "markdown",
   "metadata": {},
   "source": [
    "Попробуем подобрать оптимальные параметры при помощи grid search."
   ]
  },
  {
   "cell_type": "markdown",
   "metadata": {},
   "source": [
    "#### Grid search q-learning and plot"
   ]
  },
  {
   "cell_type": "code",
   "execution_count": 80,
   "metadata": {},
   "outputs": [
    {
     "name": "stderr",
     "output_type": "stream",
     "text": [
      "\n",
      "  0%|          | 0/15 [00:00<?, ?it/s]\u001b[A\n",
      "  7%|▋         | 1/15 [02:16<31:54, 136.77s/it]\u001b[A\n",
      " 13%|█▎        | 2/15 [04:36<29:50, 137.76s/it]\u001b[A\n",
      " 20%|██        | 3/15 [07:03<28:05, 140.44s/it]\u001b[A\n",
      " 27%|██▋       | 4/15 [09:17<25:22, 138.38s/it]\u001b[A\n",
      " 33%|███▎      | 5/15 [11:18<22:13, 133.32s/it]\u001b[A\n",
      " 40%|████      | 6/15 [13:44<20:32, 136.97s/it]\u001b[A\n",
      " 47%|████▋     | 7/15 [15:50<17:49, 133.72s/it]\u001b[A\n",
      " 53%|█████▎    | 8/15 [17:37<14:41, 125.87s/it]\u001b[A\n",
      " 60%|██████    | 9/15 [19:30<12:10, 121.82s/it]\u001b[A\n",
      " 67%|██████▋   | 10/15 [21:40<10:21, 124.27s/it]\u001b[A\n",
      " 73%|███████▎  | 11/15 [23:43<08:15, 123.98s/it]\u001b[A\n",
      " 80%|████████  | 12/15 [25:43<06:08, 122.80s/it]\u001b[A\n",
      " 87%|████████▋ | 13/15 [27:51<04:08, 124.46s/it]\u001b[A\n",
      " 93%|█████████▎| 14/15 [29:45<02:01, 121.08s/it]\u001b[A\n",
      "100%|██████████| 15/15 [31:29<00:00, 125.94s/it]\u001b[A"
     ]
    },
    {
     "name": "stdout",
     "output_type": "stream",
     "text": [
      "Лучший выигрыш: -0.042539999999999634, alpha: 0.0001, eps: 0.4035714285714286\n",
      "CPU times: user 31min 20s, sys: 14.3 s, total: 31min 34s\n",
      "Wall time: 31min 29s\n"
     ]
    },
    {
     "name": "stderr",
     "output_type": "stream",
     "text": [
      "\n"
     ]
    }
   ],
   "source": [
    "%%time\n",
    "best_sum_of_rewards = -0.18 # need better that dummy strategy\n",
    "best_alpha = 0\n",
    "best_eps = 0\n",
    "for alpha in tqdm(np.linspace(0.0001, 0.01, 15)):\n",
    "    for eps in np.linspace(0.05, 0.5, 15):\n",
    "        QL = Qlearning(alpha=alpha, eps=eps)\n",
    "        QL.train(10000)\n",
    "        sum_of_rewards = QL.inference()\n",
    "        if sum_of_rewards > best_sum_of_rewards:\n",
    "            best_sum_of_rewards = sum_of_rewards\n",
    "            best_alpha = alpha\n",
    "            best_eps = eps\n",
    "\n",
    "print(f\"Лучший выигрыш: {best_sum_of_rewards}, alpha: {best_alpha}, eps: {best_eps}\")"
   ]
  },
  {
   "cell_type": "code",
   "execution_count": 97,
   "metadata": {
    "collapsed": true,
    "jupyter": {
     "outputs_hidden": true
    }
   },
   "outputs": [
    {
     "name": "stderr",
     "output_type": "stream",
     "text": [
      "\n",
      "  0%|          | 0/100 [00:00<?, ?it/s]\u001b[A\n",
      "  1%|          | 1/100 [00:06<11:25,  6.92s/it]\u001b[A\n",
      "  2%|▏         | 2/100 [00:13<11:13,  6.88s/it]\u001b[A\n",
      "  3%|▎         | 3/100 [00:20<11:04,  6.85s/it]\u001b[A\n",
      "  4%|▍         | 4/100 [00:27<10:59,  6.87s/it]\u001b[A\n",
      "  5%|▌         | 5/100 [00:34<10:49,  6.84s/it]\u001b[A\n",
      "  6%|▌         | 6/100 [00:41<11:01,  7.03s/it]\u001b[A\n",
      "  7%|▋         | 7/100 [00:49<11:07,  7.18s/it]\u001b[A\n",
      "  8%|▊         | 8/100 [00:56<11:10,  7.29s/it]\u001b[A\n",
      "  9%|▉         | 9/100 [01:05<11:34,  7.63s/it]\u001b[A\n",
      " 10%|█         | 10/100 [01:13<11:57,  7.97s/it]\u001b[A\n",
      " 11%|█         | 11/100 [01:21<11:48,  7.96s/it]\u001b[A\n",
      " 12%|█▏        | 12/100 [01:29<11:31,  7.86s/it]\u001b[A\n",
      " 13%|█▎        | 13/100 [01:37<11:22,  7.85s/it]\u001b[A\n",
      " 14%|█▍        | 14/100 [01:51<13:49,  9.64s/it]\u001b[A\n",
      " 15%|█▌        | 15/100 [02:00<13:24,  9.46s/it]\u001b[A\n",
      " 16%|█▌        | 16/100 [02:08<12:58,  9.26s/it]\u001b[A\n",
      " 17%|█▋        | 17/100 [02:18<12:49,  9.27s/it]\u001b[A\n",
      " 18%|█▊        | 18/100 [02:27<12:46,  9.35s/it]\u001b[A\n",
      " 19%|█▉        | 19/100 [02:37<12:43,  9.42s/it]\u001b[A\n",
      " 20%|██        | 20/100 [02:45<12:14,  9.18s/it]\u001b[A\n",
      " 21%|██        | 21/100 [02:53<11:34,  8.80s/it]\u001b[A\n",
      " 22%|██▏       | 22/100 [03:03<11:35,  8.92s/it]\u001b[A\n",
      " 23%|██▎       | 23/100 [03:12<11:41,  9.11s/it]\u001b[A\n",
      " 24%|██▍       | 24/100 [03:21<11:21,  8.97s/it]\u001b[A\n",
      " 25%|██▌       | 25/100 [03:30<11:18,  9.05s/it]\u001b[A\n",
      " 26%|██▌       | 26/100 [03:39<10:58,  8.89s/it]\u001b[A\n",
      " 27%|██▋       | 27/100 [03:48<11:05,  9.12s/it]\u001b[A\n",
      " 28%|██▊       | 28/100 [03:56<10:30,  8.76s/it]\u001b[A\n",
      " 29%|██▉       | 29/100 [04:04<10:10,  8.59s/it]\u001b[A\n",
      " 30%|███       | 30/100 [04:12<09:52,  8.46s/it]\u001b[A\n",
      " 31%|███       | 31/100 [04:22<09:55,  8.63s/it]\u001b[A\n",
      " 32%|███▏      | 32/100 [04:32<10:19,  9.11s/it]\u001b[A\n",
      " 33%|███▎      | 33/100 [04:42<10:30,  9.41s/it]\u001b[A\n",
      " 34%|███▍      | 34/100 [04:51<10:12,  9.29s/it]\u001b[A\n",
      " 35%|███▌      | 35/100 [05:00<10:02,  9.28s/it]\u001b[A\n",
      " 36%|███▌      | 36/100 [05:09<09:41,  9.09s/it]\u001b[A\n",
      " 37%|███▋      | 37/100 [05:17<09:24,  8.96s/it]\u001b[A\n",
      " 38%|███▊      | 38/100 [05:26<09:09,  8.86s/it]\u001b[A\n",
      " 39%|███▉      | 39/100 [05:35<08:55,  8.78s/it]\u001b[A\n",
      " 40%|████      | 40/100 [05:43<08:41,  8.69s/it]\u001b[A\n",
      " 41%|████      | 41/100 [05:52<08:36,  8.76s/it]\u001b[A\n",
      " 42%|████▏     | 42/100 [06:01<08:26,  8.73s/it]\u001b[A\n",
      " 43%|████▎     | 43/100 [06:10<08:24,  8.85s/it]\u001b[A\n",
      " 44%|████▍     | 44/100 [06:19<08:17,  8.89s/it]\u001b[A\n",
      " 45%|████▌     | 45/100 [06:28<08:07,  8.86s/it]\u001b[A\n",
      " 46%|████▌     | 46/100 [06:37<08:01,  8.92s/it]\u001b[A\n",
      " 47%|████▋     | 47/100 [06:45<07:46,  8.80s/it]\u001b[A\n",
      " 48%|████▊     | 48/100 [06:54<07:46,  8.96s/it]\u001b[A\n",
      " 49%|████▉     | 49/100 [07:03<07:28,  8.79s/it]\u001b[A\n",
      " 50%|█████     | 50/100 [07:12<07:27,  8.96s/it]\u001b[A\n",
      " 51%|█████     | 51/100 [07:21<07:12,  8.83s/it]\u001b[A\n",
      " 52%|█████▏    | 52/100 [07:30<07:16,  9.09s/it]\u001b[A\n",
      " 53%|█████▎    | 53/100 [07:39<07:00,  8.94s/it]\u001b[A\n",
      " 54%|█████▍    | 54/100 [07:51<07:38,  9.97s/it]\u001b[A\n",
      " 55%|█████▌    | 55/100 [08:06<08:32, 11.39s/it]\u001b[A\n",
      " 56%|█████▌    | 56/100 [08:16<07:59, 10.90s/it]\u001b[A\n",
      " 57%|█████▋    | 57/100 [08:25<07:30, 10.48s/it]\u001b[A\n",
      " 58%|█████▊    | 58/100 [08:35<07:05, 10.13s/it]\u001b[A\n",
      " 59%|█████▉    | 59/100 [08:44<06:49,  9.98s/it]\u001b[A\n",
      " 60%|██████    | 60/100 [08:55<06:51, 10.29s/it]\u001b[A\n",
      " 61%|██████    | 61/100 [09:06<06:42, 10.31s/it]\u001b[A\n",
      " 62%|██████▏   | 62/100 [09:14<06:13,  9.84s/it]\u001b[A\n",
      " 63%|██████▎   | 63/100 [09:24<06:06,  9.91s/it]\u001b[A\n",
      " 64%|██████▍   | 64/100 [09:35<06:03, 10.10s/it]\u001b[A\n",
      " 65%|██████▌   | 65/100 [09:45<05:52, 10.08s/it]\u001b[A\n",
      " 66%|██████▌   | 66/100 [09:56<05:54, 10.43s/it]\u001b[A\n",
      " 67%|██████▋   | 67/100 [10:09<06:05, 11.08s/it]\u001b[A\n",
      " 68%|██████▊   | 68/100 [10:18<05:38, 10.57s/it]\u001b[A\n",
      " 69%|██████▉   | 69/100 [10:28<05:21, 10.36s/it]\u001b[A\n",
      " 70%|███████   | 70/100 [10:38<05:07, 10.26s/it]\u001b[A\n",
      " 71%|███████   | 71/100 [10:50<05:06, 10.58s/it]\u001b[A\n",
      " 72%|███████▏  | 72/100 [11:01<05:00, 10.73s/it]\u001b[A\n",
      " 73%|███████▎  | 73/100 [11:11<04:46, 10.61s/it]\u001b[A\n",
      " 74%|███████▍  | 74/100 [11:21<04:32, 10.48s/it]\u001b[A\n",
      " 75%|███████▌  | 75/100 [11:30<04:06,  9.86s/it]\u001b[A\n",
      " 76%|███████▌  | 76/100 [11:38<03:48,  9.52s/it]\u001b[A\n",
      " 77%|███████▋  | 77/100 [11:47<03:32,  9.24s/it]\u001b[A\n",
      " 78%|███████▊  | 78/100 [11:55<03:19,  9.06s/it]\u001b[A\n",
      " 79%|███████▉  | 79/100 [12:05<03:10,  9.06s/it]\u001b[A\n",
      " 80%|████████  | 80/100 [12:14<03:00,  9.04s/it]\u001b[A\n",
      " 81%|████████  | 81/100 [12:23<02:53,  9.11s/it]\u001b[A\n",
      " 82%|████████▏ | 82/100 [12:31<02:39,  8.89s/it]\u001b[A\n",
      " 83%|████████▎ | 83/100 [12:40<02:31,  8.92s/it]\u001b[A\n",
      " 84%|████████▍ | 84/100 [12:50<02:26,  9.16s/it]\u001b[A\n",
      " 85%|████████▌ | 85/100 [12:59<02:16,  9.13s/it]\u001b[A\n",
      " 86%|████████▌ | 86/100 [13:10<02:15,  9.65s/it]\u001b[A\n",
      " 87%|████████▋ | 87/100 [13:21<02:10, 10.01s/it]\u001b[A\n",
      " 88%|████████▊ | 88/100 [13:32<02:04, 10.40s/it]\u001b[A\n",
      " 89%|████████▉ | 89/100 [13:42<01:53, 10.29s/it]\u001b[A\n",
      " 90%|█████████ | 90/100 [13:54<01:48, 10.80s/it]\u001b[A\n",
      " 91%|█████████ | 91/100 [14:03<01:33, 10.37s/it]\u001b[A\n",
      " 92%|█████████▏| 92/100 [14:12<01:18,  9.80s/it]\u001b[A\n",
      " 93%|█████████▎| 93/100 [14:21<01:06,  9.47s/it]\u001b[A\n",
      " 94%|█████████▍| 94/100 [14:30<00:56,  9.38s/it]\u001b[A\n",
      " 95%|█████████▌| 95/100 [14:41<00:49,  9.88s/it]\u001b[A\n",
      " 96%|█████████▌| 96/100 [14:51<00:40, 10.03s/it]\u001b[A\n",
      " 97%|█████████▋| 97/100 [15:02<00:31, 10.40s/it]\u001b[A\n",
      " 98%|█████████▊| 98/100 [15:12<00:20, 10.19s/it]\u001b[A\n",
      " 99%|█████████▉| 99/100 [15:22<00:10, 10.01s/it]\u001b[A\n",
      "100%|██████████| 100/100 [15:31<00:00,  9.31s/it]\u001b[A"
     ]
    },
    {
     "name": "stdout",
     "output_type": "stream",
     "text": [
      "CPU times: user 15min 19s, sys: 6.68 s, total: 15min 26s\n",
      "Wall time: 15min 36s\n"
     ]
    },
    {
     "name": "stderr",
     "output_type": "stream",
     "text": [
      "\n"
     ]
    }
   ],
   "source": [
    "%%time\n",
    "\n",
    "QL = Qlearning(alpha=0.0001, eps=0.40357)\n",
    "sums_of_rewards = []\n",
    "best_sum_of_rewards = [QL.inference()]\n",
    "for i in tqdm(range(100)):\n",
    "    QL.train(1000)\n",
    "    sum_of_rewards = QL.inference()\n",
    "    sums_of_rewards.append(sum_of_rewards)"
   ]
  },
  {
   "cell_type": "code",
   "execution_count": 99,
   "metadata": {},
   "outputs": [
    {
     "data": {
      "image/png": "[encoded data removed]",
      "text/plain": [
       "<Figure size 432x288 with 1 Axes>"
      ]
     },
     "metadata": {
      "needs_background": "light"
     },
     "output_type": "display_data"
    }
   ],
   "source": [
    "plt.plot(range(0,100000,1000), sums_of_rewards)\n",
    "plt.xlabel('Эпизод')\n",
    "plt.ylabel('Avarage cumulative reward')\n",
    "plt.show()"
   ]
  },
  {
   "cell_type": "markdown",
   "metadata": {},
   "source": [
    "#### Grid search Monte Carlo control and plot"
   ]
  },
  {
   "cell_type": "code",
   "execution_count": 126,
   "metadata": {
    "collapsed": true,
    "jupyter": {
     "outputs_hidden": true
    }
   },
   "outputs": [
    {
     "name": "stderr",
     "output_type": "stream",
     "text": [
      "\n",
      "\n",
      "  0%|          | 0/100 [00:00<?, ?it/s]\u001b[A\u001b[A\n",
      "\n",
      "  1%|          | 1/100 [00:06<11:30,  6.97s/it]\u001b[A\u001b[A\n",
      "\n",
      "  2%|▏         | 2/100 [00:14<11:35,  7.10s/it]\u001b[A\u001b[A\n",
      "\n",
      "  3%|▎         | 3/100 [00:21<11:21,  7.02s/it]\u001b[A\u001b[A\n",
      "\n",
      "  4%|▍         | 4/100 [00:28<11:21,  7.10s/it]\u001b[A\u001b[A\n",
      "\n",
      "  5%|▌         | 5/100 [00:36<11:51,  7.49s/it]\u001b[A\u001b[A\n",
      "\n",
      "  6%|▌         | 6/100 [00:45<12:17,  7.84s/it]\u001b[A\u001b[A\n",
      "\n",
      "  7%|▋         | 7/100 [00:54<12:41,  8.19s/it]\u001b[A\u001b[A\n",
      "\n",
      "  8%|▊         | 8/100 [01:03<12:58,  8.46s/it]\u001b[A\u001b[A\n",
      "\n",
      "  9%|▉         | 9/100 [01:12<13:07,  8.66s/it]\u001b[A\u001b[A\n",
      "\n",
      " 10%|█         | 10/100 [01:21<13:12,  8.81s/it]\u001b[A\u001b[A\n",
      "\n",
      " 11%|█         | 11/100 [01:30<13:10,  8.89s/it]\u001b[A\u001b[A\n",
      "\n",
      " 12%|█▏        | 12/100 [01:39<12:49,  8.74s/it]\u001b[A\u001b[A\n",
      "\n",
      " 13%|█▎        | 13/100 [01:47<12:16,  8.46s/it]\u001b[A\u001b[A\n",
      "\n",
      " 14%|█▍        | 14/100 [01:55<11:53,  8.30s/it]\u001b[A\u001b[A\n",
      "\n",
      " 15%|█▌        | 15/100 [02:03<11:35,  8.18s/it]\u001b[A\u001b[A\n",
      "\n",
      " 16%|█▌        | 16/100 [02:11<11:41,  8.35s/it]\u001b[A\u001b[A\n",
      "\n",
      " 17%|█▋        | 17/100 [02:19<11:26,  8.27s/it]\u001b[A\u001b[A\n",
      "\n",
      " 18%|█▊        | 18/100 [02:27<11:05,  8.12s/it]\u001b[A\u001b[A\n",
      "\n",
      " 19%|█▉        | 19/100 [02:35<10:54,  8.08s/it]\u001b[A\u001b[A\n",
      "\n",
      " 20%|██        | 20/100 [02:43<10:42,  8.03s/it]\u001b[A\u001b[A\n",
      "\n",
      " 21%|██        | 21/100 [02:51<10:30,  7.99s/it]\u001b[A\u001b[A\n",
      "\n",
      " 22%|██▏       | 22/100 [02:59<10:20,  7.95s/it]\u001b[A\u001b[A\n",
      "\n",
      " 23%|██▎       | 23/100 [03:07<10:12,  7.95s/it]\u001b[A\u001b[A\n",
      "\n",
      " 24%|██▍       | 24/100 [03:15<10:04,  7.96s/it]\u001b[A\u001b[A\n",
      "\n",
      " 25%|██▌       | 25/100 [03:23<09:58,  7.97s/it]\u001b[A\u001b[A\n",
      "\n",
      " 26%|██▌       | 26/100 [03:31<09:46,  7.93s/it]\u001b[A\u001b[A\n",
      "\n",
      " 27%|██▋       | 27/100 [03:39<09:49,  8.08s/it]\u001b[A\u001b[A\n",
      "\n",
      " 28%|██▊       | 28/100 [03:47<09:37,  8.01s/it]\u001b[A\u001b[A\n",
      "\n",
      " 29%|██▉       | 29/100 [03:55<09:26,  7.98s/it]\u001b[A\u001b[A\n",
      "\n",
      " 30%|███       | 30/100 [04:03<09:15,  7.93s/it]\u001b[A\u001b[A\n",
      "\n",
      " 31%|███       | 31/100 [04:10<08:53,  7.74s/it]\u001b[A\u001b[A\n",
      "\n",
      " 32%|███▏      | 32/100 [04:18<08:49,  7.79s/it]\u001b[A\u001b[A\n",
      "\n",
      " 33%|███▎      | 33/100 [04:26<08:44,  7.82s/it]\u001b[A\u001b[A\n",
      "\n",
      " 34%|███▍      | 34/100 [04:33<08:35,  7.81s/it]\u001b[A\u001b[A\n",
      "\n",
      " 35%|███▌      | 35/100 [04:41<08:27,  7.81s/it]\u001b[A\u001b[A\n",
      "\n",
      " 36%|███▌      | 36/100 [04:49<08:21,  7.84s/it]\u001b[A\u001b[A\n",
      "\n",
      " 37%|███▋      | 37/100 [04:57<08:16,  7.89s/it]\u001b[A\u001b[A\n",
      "\n",
      " 38%|███▊      | 38/100 [05:05<07:59,  7.73s/it]\u001b[A\u001b[A\n",
      "\n",
      " 39%|███▉      | 39/100 [05:12<07:53,  7.76s/it]\u001b[A\u001b[A\n",
      "\n",
      " 40%|████      | 40/100 [05:20<07:48,  7.81s/it]\u001b[A\u001b[A\n",
      "\n",
      " 41%|████      | 41/100 [05:28<07:43,  7.85s/it]\u001b[A\u001b[A\n",
      "\n",
      " 42%|████▏     | 42/100 [05:36<07:36,  7.87s/it]\u001b[A\u001b[A\n",
      "\n",
      " 43%|████▎     | 43/100 [05:44<07:33,  7.96s/it]\u001b[A\u001b[A\n",
      "\n",
      " 44%|████▍     | 44/100 [05:53<07:32,  8.07s/it]\u001b[A\u001b[A\n",
      "\n",
      " 45%|████▌     | 45/100 [06:01<07:22,  8.04s/it]\u001b[A\u001b[A\n",
      "\n",
      " 46%|████▌     | 46/100 [06:09<07:15,  8.06s/it]\u001b[A\u001b[A\n",
      "\n",
      " 47%|████▋     | 47/100 [06:16<06:55,  7.84s/it]\u001b[A\u001b[A\n",
      "\n",
      " 48%|████▊     | 48/100 [06:24<06:56,  8.01s/it]\u001b[A\u001b[A\n",
      "\n",
      " 49%|████▉     | 49/100 [06:35<07:29,  8.81s/it]\u001b[A\u001b[A\n",
      "\n",
      " 50%|█████     | 50/100 [06:43<07:10,  8.62s/it]\u001b[A\u001b[A\n",
      "\n",
      " 51%|█████     | 51/100 [06:51<06:52,  8.41s/it]\u001b[A\u001b[A\n",
      "\n",
      " 52%|█████▏    | 52/100 [06:59<06:35,  8.23s/it]\u001b[A\u001b[A\n",
      "\n",
      " 53%|█████▎    | 53/100 [07:07<06:23,  8.17s/it]\u001b[A\u001b[A\n",
      "\n",
      " 54%|█████▍    | 54/100 [07:15<06:15,  8.16s/it]\u001b[A\u001b[A\n",
      "\n",
      " 55%|█████▌    | 55/100 [1:22:32<17:00:38, 1360.85s/it]\u001b[A\u001b[A\n",
      "\n",
      " 56%|█████▌    | 56/100 [1:22:41<11:40:31, 955.27s/it] \u001b[A\u001b[A\n",
      "\n",
      " 57%|█████▋    | 57/100 [1:22:48<8:00:44, 670.81s/it] \u001b[A\u001b[A\n",
      "\n",
      " 58%|█████▊    | 58/100 [1:22:55<5:30:01, 471.46s/it]\u001b[A\u001b[A\n",
      "\n",
      " 59%|█████▉    | 59/100 [1:23:01<3:46:50, 331.96s/it]\u001b[A\u001b[A\n",
      "\n",
      " 60%|██████    | 60/100 [1:23:07<2:36:08, 234.22s/it]\u001b[A\u001b[A\n",
      "\n",
      " 61%|██████    | 61/100 [1:23:14<1:47:49, 165.89s/it]\u001b[A\u001b[A\n",
      "\n",
      " 62%|██████▏   | 62/100 [1:23:20<1:14:46, 118.06s/it]\u001b[A\u001b[A\n",
      "\n",
      " 63%|██████▎   | 63/100 [1:23:27<52:12, 84.65s/it]   \u001b[A\u001b[A\n",
      "\n",
      " 64%|██████▍   | 64/100 [1:23:33<36:39, 61.10s/it]\u001b[A\u001b[A\n",
      "\n",
      " 65%|██████▌   | 65/100 [1:23:40<26:06, 44.77s/it]\u001b[A\u001b[A\n",
      "\n",
      " 66%|██████▌   | 66/100 [1:23:47<18:59, 33.53s/it]\u001b[A\u001b[A\n",
      "\n",
      " 67%|██████▋   | 67/100 [1:23:54<14:07, 25.67s/it]\u001b[A\u001b[A\n",
      "\n",
      " 68%|██████▊   | 68/100 [1:24:01<10:40, 20.03s/it]\u001b[A\u001b[A\n",
      "\n",
      " 69%|██████▉   | 69/100 [1:24:08<08:22, 16.21s/it]\u001b[A\u001b[A\n",
      "\n",
      " 70%|███████   | 70/100 [1:24:15<06:42, 13.41s/it]\u001b[A\u001b[A\n",
      "\n",
      " 71%|███████   | 71/100 [1:24:23<05:34, 11.55s/it]\u001b[A\u001b[A\n",
      "\n",
      " 72%|███████▏  | 72/100 [1:24:30<04:50, 10.39s/it]\u001b[A\u001b[A\n",
      "\n",
      " 73%|███████▎  | 73/100 [1:24:37<04:13,  9.39s/it]\u001b[A\u001b[A\n",
      "\n",
      " 74%|███████▍  | 74/100 [1:24:45<03:49,  8.84s/it]\u001b[A\u001b[A\n",
      "\n",
      " 75%|███████▌  | 75/100 [1:24:53<03:34,  8.59s/it]\u001b[A\u001b[A\n",
      "\n",
      " 76%|███████▌  | 76/100 [1:25:01<03:24,  8.53s/it]\u001b[A\u001b[A\n",
      "\n",
      " 77%|███████▋  | 77/100 [1:25:09<03:14,  8.45s/it]\u001b[A\u001b[A\n",
      "\n",
      " 78%|███████▊  | 78/100 [1:25:17<02:57,  8.08s/it]\u001b[A\u001b[A\n",
      "\n",
      " 79%|███████▉  | 79/100 [1:25:24<02:45,  7.90s/it]\u001b[A\u001b[A\n",
      "\n",
      " 80%|████████  | 80/100 [1:25:32<02:36,  7.84s/it]\u001b[A\u001b[A\n",
      "\n",
      " 81%|████████  | 81/100 [1:25:39<02:27,  7.77s/it]\u001b[A\u001b[A\n",
      "\n",
      " 82%|████████▏ | 82/100 [1:25:47<02:18,  7.68s/it]\u001b[A\u001b[A\n",
      "\n",
      " 83%|████████▎ | 83/100 [1:25:54<02:09,  7.62s/it]\u001b[A\u001b[A\n",
      "\n",
      " 84%|████████▍ | 84/100 [1:26:02<02:00,  7.55s/it]\u001b[A\u001b[A\n",
      "\n",
      " 85%|████████▌ | 85/100 [1:26:09<01:52,  7.49s/it]\u001b[A\u001b[A\n",
      "\n",
      " 86%|████████▌ | 86/100 [1:26:16<01:43,  7.39s/it]\u001b[A\u001b[A\n",
      "\n",
      " 87%|████████▋ | 87/100 [1:26:24<01:35,  7.37s/it]\u001b[A\u001b[A\n",
      "\n",
      " 88%|████████▊ | 88/100 [1:26:31<01:28,  7.41s/it]\u001b[A\u001b[A\n",
      "\n",
      " 89%|████████▉ | 89/100 [1:26:39<01:22,  7.52s/it]\u001b[A\u001b[A\n",
      "\n",
      " 90%|█████████ | 90/100 [1:26:46<01:13,  7.39s/it]\u001b[A\u001b[A\n",
      "\n",
      " 91%|█████████ | 91/100 [1:26:53<01:06,  7.37s/it]\u001b[A\u001b[A\n",
      "\n",
      " 92%|█████████▏| 92/100 [1:27:01<00:59,  7.38s/it]\u001b[A\u001b[A\n",
      "\n",
      " 93%|█████████▎| 93/100 [1:27:08<00:51,  7.39s/it]\u001b[A\u001b[A\n",
      "\n",
      " 94%|█████████▍| 94/100 [1:27:15<00:43,  7.32s/it]\u001b[A\u001b[A\n",
      "\n",
      " 95%|█████████▌| 95/100 [1:27:23<00:36,  7.36s/it]\u001b[A\u001b[A\n",
      "\n",
      " 96%|█████████▌| 96/100 [1:27:31<00:29,  7.48s/it]\u001b[A\u001b[A\n",
      "\n",
      " 97%|█████████▋| 97/100 [1:27:39<00:22,  7.66s/it]\u001b[A\u001b[A\n",
      "\n",
      " 98%|█████████▊| 98/100 [1:27:47<00:15,  7.76s/it]\u001b[A\u001b[A\n",
      "\n",
      " 99%|█████████▉| 99/100 [1:27:54<00:07,  7.60s/it]\u001b[A\u001b[A\n",
      "\n",
      "100%|██████████| 100/100 [1:28:01<00:00, 52.82s/it]\u001b[A\u001b[A"
     ]
    },
    {
     "name": "stdout",
     "output_type": "stream",
     "text": [
      "Лучший выигрыш: -0.07829500000000111, best_gamma: 0.6060606060606061\n",
      "CPU times: user 12min 48s, sys: 6.53 s, total: 12min 55s\n",
      "Wall time: 1h 28min 1s\n"
     ]
    },
    {
     "name": "stderr",
     "output_type": "stream",
     "text": [
      "\n"
     ]
    }
   ],
   "source": [
    "%%time\n",
    "best_sum_of_rewards = -0.18 # need better that dummy strategy\n",
    "best_gamma = 0\n",
    "\n",
    "for gamma in tqdm(np.linspace(0., 1, 100)):\n",
    "    Q_mc, evaluations = monte_carlo(gamma=1., episodes=5000, evaluate=False)\n",
    "    sum_of_rewards = MC_inference(Q_mc, num_episodes=100000)\n",
    "    if sum_of_rewards > best_sum_of_rewards:\n",
    "        best_sum_of_rewards = sum_of_rewards\n",
    "        best_gamma = gamma\n",
    "\n",
    "print(f\"Лучший выигрыш: {best_sum_of_rewards}, best_gamma: {best_gamma}\")"
   ]
  },
  {
   "cell_type": "code",
   "execution_count": null,
   "metadata": {},
   "outputs": [
    {
     "name": "stderr",
     "output_type": "stream",
     "text": [
      "\n",
      "\n",
      "\n",
      "  0%|          | 0/50 [00:00<?, ?it/s]\u001b[A\u001b[A\u001b[A\n",
      "\n",
      "\n",
      "  2%|▏         | 1/50 [00:05<04:49,  5.90s/it]\u001b[A\u001b[A\u001b[A\n",
      "\n",
      "\n",
      "  4%|▍         | 2/50 [00:13<05:00,  6.26s/it]\u001b[A\u001b[A\u001b[A\n",
      "\n",
      "\n",
      "  6%|▌         | 3/50 [00:20<05:10,  6.61s/it]\u001b[A\u001b[A\u001b[A\n",
      "\n",
      "\n",
      "  8%|▊         | 4/50 [00:27<05:05,  6.65s/it]\u001b[A\u001b[A\u001b[A\n",
      "\n",
      "\n",
      " 10%|█         | 5/50 [00:34<05:12,  6.95s/it]\u001b[A\u001b[A\u001b[A\n",
      "\n",
      "\n",
      " 12%|█▏        | 6/50 [00:43<05:27,  7.45s/it]\u001b[A\u001b[A\u001b[A"
     ]
    }
   ],
   "source": [
    "%%time\n",
    "\n",
    "sums_of_rewards = []\n",
    "best_sum_of_rewards = [QL.inference()]\n",
    "for i in tqdm(range(50)):\n",
    "    Q_mc, evaluations = monte_carlo(gamma=1, episodes=i*1000, evaluate=False)\n",
    "    sum_of_rewards = MC_inference(Q_mc, num_episodes=100000)\n",
    "    sums_of_rewards.append(sum_of_rewards)"
   ]
  },
  {
   "cell_type": "code",
   "execution_count": 131,
   "metadata": {},
   "outputs": [
    {
     "data": {
      "text/plain": [
       "Text(0, 0.5, 'win rate')"
      ]
     },
     "execution_count": 131,
     "metadata": {},
     "output_type": "execute_result"
    },
    {
     "data": {
      "image/png": "[encoded data removed]",
      "text/plain": [
       "<Figure size 432x288 with 1 Axes>"
      ]
     },
     "metadata": {
      "needs_background": "light"
     },
     "output_type": "display_data"
    }
   ],
   "source": [
    "plt.plot([i * 1000 for i in range(len(evaluations))], evaluations)\n",
    "plt.xlabel('episode')\n",
    "plt.ylabel('win rate')"
   ]
  },
  {
   "cell_type": "code",
   "execution_count": null,
   "metadata": {},
   "outputs": [],
   "source": [
    "%%time\n",
    "\n",
    "sums_of_rewards = []\n",
    "best_sum_of_rewards = [QL.inference()]\n",
    "for i in tqdm(range(100)):\n",
    "    Q_mc, evaluations = monte_carlo(gamma=1., episodes=i*1000, evaluate=False)\n",
    "    sum_of_rewards = MC_inference(Q_mc, num_episodes=100000)\n",
    "    sums_of_rewards.append(sum_of_rewards)"
   ]
  },
  {
   "cell_type": "markdown",
   "metadata": {},
   "source": [
    "## Часть вторая, удвоенная\n",
    "\n",
    "В базовый блекджек, описанный в предыдущем разделе, обыграть казино вряд ли получится. Но, к счастью, на этом история не заканчивается. Описанные выше правила были упрощёнными, а на самом деле у игрока есть ещё и другие возможности. Реализовывать split может оказаться непросто, поэтому давайте ограничимся удвоением ставки. Итак, у игрока появляется дополнительное действие:\n"
   ]
  },
  {
   "cell_type": "markdown",
   "metadata": {},
   "source": [
    "* double — удвоить ставку; при этом больше действий делать нельзя, игроку выдаётся ровно одна дополнительная карта, а выигрыш или проигрыш удваивается.\n",
    "4. Реализуйте новый вариант блекджека на основе окружения Blackjack-v0 из OpenAI Gym, в котором разрешено удвоение ставки.\n",
    "5. Реализуйте метод обучения с подкреплением без модели для этого варианта, постройте графики, аналогичные п.2.\n"
   ]
  },
  {
   "cell_type": "markdown",
   "metadata": {},
   "source": [
    "### 5. Реализуйте метод обучения с подкреплением без модели для этого варианта, постройте графики, аналогичные п.2."
   ]
  },
  {
   "cell_type": "code",
   "execution_count": null,
   "metadata": {},
   "outputs": [],
   "source": []
  },
  {
   "cell_type": "markdown",
   "metadata": {},
   "source": [
    "## Часть третья, в главной роли — Дастин Хоффман\n",
    "\n",
    "А теперь давайте вспомним, как играют в блекджек настоящие профессионалы. Дело в том, что в оффлайн-казино обычно не перемешивают колоду после каждой раздачи — это слишком замедляло бы игру. После раздачи карты просто раздаются дальше с верха колоды до тех пор, пока карт не останется слишком мало, и только тогда колода перемешивается; давайте для определённости считать, что наше казино будет перемешивать колоду, в которой осталось меньше 15 карт."
   ]
  },
  {
   "cell_type": "markdown",
   "metadata": {},
   "source": [
    "Действительно, если вы будете запоминать, какие карты уже вышли, у вас будет информация о том, какие карты ещё остались, а это позволяет лучше понять, когда нужно удваивать ставку или делать split, а когда лучше не стоит. В настоящем казино могут раздавать карты сразу из нескольких колод, и заслуга Rain Man’а была в том, что он смог считать карты в шести колодах одновременно. Но мы с вами вооружены компьютерами, так что подсчёт можно считать автоматическим.\n",
    "\n",
    "\n",
    "\n",
    "6. Реализуйте вариант окружения Blackjack-v0 из предыдущей части (с удвоением), в котором игрок имеет возможность “считать карты” в колоде. Это можно сделать разными способами; возможно, вам поможет статья википедии о блекджеке (а возможно, и нет).\n",
    "7. Реализуйте метод обучения с подкреплением без модели для этого варианта, постройте графики, аналогичные п.2.\n"
   ]
  },
  {
   "cell_type": "markdown",
   "metadata": {},
   "source": [
    "### 6. Реализуйте вариант окружения Blackjack-v0 из предыдущей части (с удвоением), в котором игрок имеет возможность “считать карты” в колоде."
   ]
  },
  {
   "cell_type": "markdown",
   "metadata": {},
   "source": [
    "Реализуем систему подсчёта карт «Половинки»."
   ]
  },
  {
   "cell_type": "markdown",
   "metadata": {},
   "source": [
    "### 7. Реализуйте метод обучения с подкреплением без модели для этого варианта, постройте графики, аналогичные п.2."
   ]
  },
  {
   "cell_type": "code",
   "execution_count": null,
   "metadata": {},
   "outputs": [],
   "source": []
  }
 ],
 "metadata": {
  "kernelspec": {
   "display_name": "Python 3",
   "language": "python",
   "name": "python3"
  },
  "language_info": {
   "codemirror_mode": {
    "name": "ipython",
    "version": 3
   },
   "file_extension": ".py",
   "mimetype": "text/x-python",
   "name": "python",
   "nbconvert_exporter": "python",
   "pygments_lexer": "ipython3",
   "version": "3.6.10"
  }
 },
 "nbformat": 4,
 "nbformat_minor": 4
}
